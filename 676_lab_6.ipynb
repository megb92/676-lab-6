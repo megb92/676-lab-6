{
 "cells": [
  {
   "cell_type": "code",
   "execution_count": 6,
   "metadata": {},
   "outputs": [],
   "source": [
    "import xml.etree.ElementTree as ET"
   ]
  },
  {
   "cell_type": "markdown",
   "metadata": {},
   "source": [
    "Meghan Berry\n",
    "SI 676 Lab 6\n",
    "\n",
    "1) What is the first-line string that declares an XML document (that is, what is basic syntax of the XML document declaration)?\n",
    "\n",
    "<?xml version=\"1.0\" encoding=\"UTF-8\"?>\n",
    "\n",
    "2) What is the advantage of aliasing a library? Why import the ElementTree module using import xml.etree.ElemenTree as ET rather than the basic import statement?\n",
    "\n",
    "Giving the library an alias makes it simpler to call throughout the document- you don't have to type out the entire string each time."
   ]
  },
  {
   "cell_type": "markdown",
   "metadata": {},
   "source": [
    "3) Write a code block that loads the EAD finding aid in the course repo (/data/xml/day_20221004_205435_UTC__ead.xml). Parse the tree and extract the archdesc element. What are the subelements? This builds on the assignment we used in class (archDesc = root.find('archdesc')) and then you can develop a loop like for element in archdesc to explore further)"
   ]
  },
  {
   "cell_type": "code",
   "execution_count": null,
   "metadata": {},
   "outputs": [],
   "source": [
    "tree = ET.parse('data/xml/day_20221004_205435_UTC__ead.xml')\n",
    "root = tree.getroot()\n",
    "ns = {\n",
    "    'ead' : 'http://ead3.archivists.org/schema/'\n",
    "}\n",
    "archDesc = root.find('ead:archdesc', ns)\n",
    "for element in archDesc:\n",
    "    print(element.tag, element.attrib)"
   ]
  },
  {
   "cell_type": "markdown",
   "metadata": {},
   "source": [
    "4) How do you work with prefixed namespaces in the ET module? How do you assign prefixes for use within path addresses? How do you assign namespaces for writing out a valid XML with namespace declarations and prefixes?\n",
    "\n",
    "eTree adds the namespace element to each tag element, which then has to be typed each time the element is referenced. To avoid this create a dictionary, ns, that holds the namespace and can be passed to the parser along with the dictionary key as a prefix. Then the prefix and element name can be used for reference without typing the namespace ('ead:control'). To write out an XML file with prefixes, use the register_namespace() function to declare each prefix."
   ]
  },
  {
   "cell_type": "markdown",
   "metadata": {},
   "source": [
    "5) Write a code block that adds new attributes to two or more elements in the mock-up superior-papers.xml file. Write out the file with the appropriately included XML declaration and namespace declarations for the EAD3 schema."
   ]
  },
  {
   "cell_type": "code",
   "execution_count": 8,
   "metadata": {},
   "outputs": [
    {
     "name": "stdout",
     "output_type": "stream",
     "text": [
      "wrote data\\xml\\superior-papers.xml\n"
     ]
    }
   ],
   "source": [
    "ead_file = os.path.join('data','xml','superior-papers.xml')\n",
    "tree = ET.parse('data/xml/superior-papers.xml')\n",
    "control = tree.find('{http://ead3.archivists.org/schema/}control')\n",
    "control.set('language', 'en-US')\n",
    "archDesc = tree.find('{http://ead3.archivists.org/schema/}archdesc')\n",
    "archDesc.set('x','y')\n",
    "tree.write(ead_file, xml_declaration=True, encoding='utf-8', method='xml')\n",
    "print('wrote',ead_file)"
   ]
  }
 ],
 "metadata": {
  "kernelspec": {
   "display_name": "Python 3.9.5 64-bit",
   "language": "python",
   "name": "python3"
  },
  "language_info": {
   "codemirror_mode": {
    "name": "ipython",
    "version": 3
   },
   "file_extension": ".py",
   "mimetype": "text/x-python",
   "name": "python",
   "nbconvert_exporter": "python",
   "pygments_lexer": "ipython3",
   "version": "3.9.5"
  },
  "orig_nbformat": 4,
  "vscode": {
   "interpreter": {
    "hash": "42a0c6e04765a0e5c81efcf8de597dc7486eb0428d13934cc701f61f453231d6"
   }
  }
 },
 "nbformat": 4,
 "nbformat_minor": 2
}
